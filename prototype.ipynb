{
 "cells": [
  {
   "cell_type": "code",
   "execution_count": null,
   "metadata": {},
   "outputs": [],
   "source": [
    "import pandas as pd\n",
    "import numpy as np\n",
    "import quandl as qd\n",
    "import matplotlib.pyplot as plt"
   ]
  },
  {
   "cell_type": "code",
   "execution_count": null,
   "metadata": {},
   "outputs": [],
   "source": [
    "qd.ApiConfig.api_key = 'xrJsb6qPU-whbsegBjyE'"
   ]
  },
  {
   "cell_type": "code",
   "execution_count": null,
   "metadata": {},
   "outputs": [],
   "source": [
    "#define industry and stocks\n",
    "airlines = ['DAL','AAL','JBLU','LUV','SAVE','ALK','UAL','AER','AL']\n",
    "banks = ['C','BAC','MS','JPM','GS','WFC','RY','TD','BNC']\n",
    "casinos = ['MGM','WYNN','MLCO','BYD','LVS','CZR','ERI','PENN']\n",
    "hotels = ['MAR','HLT','EXPE','TCOM','H','IHG','CHH','WH','WYND','PK']"
   ]
  },
  {
   "cell_type": "code",
   "execution_count": null,
   "metadata": {},
   "outputs": [],
   "source": [
    "def single_stock(stock, choice):\n",
    "    df = qd.get_table('SHARADAR/SF1',dimension='MRY',ticker=stock)\n",
    "    if choice == 'income':\n",
    "        return analyze_income(df)\n",
    "    if choice == 'debt':\n",
    "        return analyze_debt(df)\n",
    "    \n",
    "def analyze_debt(df):\n",
    "    debt_cols = ['netinc','intexp','cashneq','assetsc','liabilitiesc','investmentsc','ncfdebt','reportperiod','lastupdated','opex','ticker']\n",
    "    debt = (df.T.loc[debt_cols]).T\n",
    "    debt['cash_ratio'] = debt['cashneq']/debt['liabilitiesc']\n",
    "    debt['quick_ratio'] = (debt['cashneq'] + debt['investmentsc'])/debt['liabilitiesc']\n",
    "    debt['current_ratio'] = debt['assetsc'] / debt['liabilitiesc']\n",
    "    debt['cash_intexp'] = debt['cashneq'] / (debt['intexp']+1)\n",
    "    debt['cash_allexp'] = debt['cashneq'] / (debt['intexp'] + debt['opex'])\n",
    "    debt['cash_ncfdebt'] = debt['cashneq'] / (debt['ncfdebt'] + 1)\n",
    "    debt['inc_intexp'] = debt['netinc']/(debt['intexp']+1)\n",
    "    ret_cols = ['cash_ratio','quick_ratio','current_ratio','inc_intexp','cash_intexp','cash_allexp','cash_ncfdebt','reportperiod','ticker']\n",
    "    return debt[ret_cols]\n",
    "\n",
    "def analyze_income(df):\n",
    "    inc_cols = ['revenue','netinc','sgna','rnd','opex','grossmargin','netmargin','ebitdamargin','roe','roa','reportperiod','ticker']\n",
    "    inc = (df.T.loc[inc_cols]).T\n",
    "    print(inc)\n",
    "    inc['revenue_growth'] = (inc['revenue']-inc['revenue'].shift(-1))/inc['revenue'].shift(-1) * 100\n",
    "    inc['income_growth'] = (inc['netinc']-inc['netinc'].shift(-1))/inc['netinc'].shift(-1) * 100\n",
    "    ret_cols = inc_cols + ['revenue_growth','income_growth']\n",
    "    return inc[ret_cols]\n",
    "\n",
    "def get_data(industry):\n",
    "    dfs = {'income':{}, 'debt': {}}\n",
    "    for stock in industry:\n",
    "        df = qd.get_table('SHARADAR/SF1',dimension='MRY',ticker=stock)\n",
    "        tmp = analyze_debt(df)\n",
    "        tmp['reportperiod'] = pd.to_datetime(tmp['reportperiod'])\n",
    "        tmp = tmp.sort_values('reportperiod')\n",
    "        tmp.index = tmp['reportperiod']\n",
    "        dfs['debt'][stock] = tmp\n",
    "        del tmp['reportperiod']\n",
    "        \n",
    "        tmp = analyze_income(df)\n",
    "        tmp['reportperiod'] = pd.to_datetime(tmp['reportperiod'])\n",
    "        tmp = tmp.sort_values('reportperiod')\n",
    "        tmp.index = tmp['reportperiod']\n",
    "        dfs['income'][stock] = tmp\n",
    "        del tmp['reportperiod']\n",
    "    return dfs\n",
    "\n",
    "\n",
    "def analyze_industry_cross(dfs,choice,metric):\n",
    "    tmp = pd.DataFrame()\n",
    "    df = dfs[choice]\n",
    "    for k in df.keys():\n",
    "        tmp[k] = df[k][metric]\n",
    "    tmp.plot(figsize=(20,10))\n",
    "    plt.show()\n",
    "    \n",
    "def analyze_industry_current(dfs, choice):\n",
    "#     tmp = {}\n",
    "#     for k in dfs.keys():\n",
    "#         print(dfs[k].iloc[0])\n",
    "    df = dfs[choice]\n",
    "    lst = [df[k] for k in df.keys()]\n",
    "    tmp = pd.concat(lst)\n",
    "    dates = tmp.index.unique()\n",
    "    tmp = tmp[tmp.index==dates[-1]]\n",
    "    tmp.index = tmp.ticker\n",
    "    del tmp['ticker']\n",
    "    print(tmp)"
   ]
  },
  {
   "cell_type": "code",
   "execution_count": null,
   "metadata": {},
   "outputs": [],
   "source": [
    "dfs = get_data(hotels)"
   ]
  },
  {
   "cell_type": "code",
   "execution_count": null,
   "metadata": {},
   "outputs": [],
   "source": [
    "analyze_industry_cross(dfs,'income','roe')"
   ]
  },
  {
   "cell_type": "code",
   "execution_count": null,
   "metadata": {},
   "outputs": [],
   "source": [
    "analyze_industry_current(dfs,'debt')"
   ]
  },
  {
   "cell_type": "code",
   "execution_count": null,
   "metadata": {},
   "outputs": [],
   "source": [
    "analyze_industry_current(dfs,'income')"
   ]
  },
  {
   "cell_type": "code",
   "execution_count": null,
   "metadata": {},
   "outputs": [],
   "source": [
    "single_stock('PK','income')"
   ]
  },
  {
   "cell_type": "code",
   "execution_count": null,
   "metadata": {},
   "outputs": [],
   "source": []
  }
 ],
 "metadata": {
  "kernelspec": {
   "display_name": "Python 3",
   "language": "python",
   "name": "python3"
  },
  "language_info": {
   "codemirror_mode": {
    "name": "ipython",
    "version": 3
   },
   "file_extension": ".py",
   "mimetype": "text/x-python",
   "name": "python",
   "nbconvert_exporter": "python",
   "pygments_lexer": "ipython3",
   "version": "3.7.6"
  }
 },
 "nbformat": 4,
 "nbformat_minor": 4
}
